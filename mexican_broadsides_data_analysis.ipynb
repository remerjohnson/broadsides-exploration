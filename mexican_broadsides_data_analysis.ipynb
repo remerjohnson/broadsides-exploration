{
 "cells": [
  {
   "cell_type": "markdown",
   "metadata": {},
   "source": [
    "# Mexican Broadsides Data Analysis\n",
    "\n",
    "For the upcoming Mexican Broadsides collection, we so far have an Excel sheet with call numbers and some metadata. These data will need to be converted, cleaned, and otherwise analyzed in order to produce quality metadata for the DAMS. \n",
    "\n",
    "## First step: data conversion\n",
    "Step one was taking the primary sheet in Excel and converting that to a csv file via `csvkit`. The command was:\n",
    "\n",
    "```\n",
    "in2csv --sheet 'Mexican Broadsides Batch 1' Mexican_broadsides_batch_1.xlsx > broadsides.csv\n",
    "```"
   ]
  },
  {
   "cell_type": "code",
   "execution_count": 21,
   "metadata": {
    "collapsed": true
   },
   "outputs": [],
   "source": [
    "import pandas as pd\n",
    "import os\n",
    "import glob"
   ]
  },
  {
   "cell_type": "code",
   "execution_count": 4,
   "metadata": {
    "collapsed": true
   },
   "outputs": [],
   "source": [
    "df1 = pd.read_csv('broadsides.csv')"
   ]
  },
  {
   "cell_type": "code",
   "execution_count": 5,
   "metadata": {
    "collapsed": false
   },
   "outputs": [
    {
     "data": {
      "text/html": [
       "<div>\n",
       "<style scoped>\n",
       "    .dataframe tbody tr th:only-of-type {\n",
       "        vertical-align: middle;\n",
       "    }\n",
       "\n",
       "    .dataframe tbody tr th {\n",
       "        vertical-align: top;\n",
       "    }\n",
       "\n",
       "    .dataframe thead th {\n",
       "        text-align: right;\n",
       "    }\n",
       "</style>\n",
       "<table border=\"1\" class=\"dataframe\">\n",
       "  <thead>\n",
       "    <tr style=\"text-align: right;\">\n",
       "      <th></th>\n",
       "      <th>BIB</th>\n",
       "      <th>CALL</th>\n",
       "      <th>LOC</th>\n",
       "      <th>AUTHOR</th>\n",
       "      <th>TITLE</th>\n",
       "      <th>PUBLISHED</th>\n",
       "      <th>GENRE</th>\n",
       "      <th>STATUS</th>\n",
       "      <th>Notes</th>\n",
       "    </tr>\n",
       "  </thead>\n",
       "  <tbody>\n",
       "    <tr>\n",
       "      <th>0</th>\n",
       "      <td>b35481328</td>\n",
       "      <td>BX1427 .A35 1680z</td>\n",
       "      <td>cpn</td>\n",
       "      <td>Cofradía de San Benito de Palerma</td>\n",
       "      <td>Patente de la Cofradia y Hermandad de la Coron...</td>\n",
       "      <td>[Mexico] : [La Cofradia], [168-]</td>\n",
       "      <td>Broadsides -- Mexico -- 1680-1689. rbgenr</td>\n",
       "      <td>In Aeon</td>\n",
       "      <td>NaN</td>\n",
       "    </tr>\n",
       "    <tr>\n",
       "      <th>1</th>\n",
       "      <td>b35484287</td>\n",
       "      <td>BX1427 .A35 1767</td>\n",
       "      <td>cpn</td>\n",
       "      <td>Cofradia del Santissimo Sacramento y Nuestra S...</td>\n",
       "      <td>Patente de la Cofradia del Santissimo Sacramen...</td>\n",
       "      <td>[Mexico] : [La Cofradia], [1767?]</td>\n",
       "      <td>Broadsides -- Mexico -- 1760-1769. rbgenr</td>\n",
       "      <td>In Aeon</td>\n",
       "      <td>NaN</td>\n",
       "    </tr>\n",
       "    <tr>\n",
       "      <th>2</th>\n",
       "      <td>b35484718</td>\n",
       "      <td>BX1427 .A35 1770z</td>\n",
       "      <td>cpn</td>\n",
       "      <td>Cofradía de San Dimas y Nuestra Señora de la C...</td>\n",
       "      <td>Patente de la Cofradia y Ermandad de el glorio...</td>\n",
       "      <td>[Mexico] : [La Cofradia], [177-]</td>\n",
       "      <td>Broadsides -- Mexico -- 1770-1779. rbgenr</td>\n",
       "      <td>In Aeon</td>\n",
       "      <td>NaN</td>\n",
       "    </tr>\n",
       "    <tr>\n",
       "      <th>3</th>\n",
       "      <td>b35484676</td>\n",
       "      <td>BX1427 .A35 1780z</td>\n",
       "      <td>cpn</td>\n",
       "      <td>Cofradia de San Dimas y Nuestra Señora de la C...</td>\n",
       "      <td>Patente de hermano de la ilustre Cofradia del ...</td>\n",
       "      <td>[Mexico] : [La Cofradia], [178-]</td>\n",
       "      <td>Broadsides -- Mexico -- 1780-1789. rbgenr</td>\n",
       "      <td>In Aeon</td>\n",
       "      <td>NaN</td>\n",
       "    </tr>\n",
       "    <tr>\n",
       "      <th>4</th>\n",
       "      <td>b35581864</td>\n",
       "      <td>BX1430.G7 C38 1845</td>\n",
       "      <td>cpn</td>\n",
       "      <td>Catholic Church. Diocese of Guadalajara (Mexic...</td>\n",
       "      <td>El Ilmo. Sr. Dr. D. Diego Aranda, dignisimo ob...</td>\n",
       "      <td>[Guadalajara, Mexico] : Imprenta de Rodriguez,...</td>\n",
       "      <td>Broadsides -- Mexico -- 1840-1849. rbgenr</td>\n",
       "      <td>In Aeon</td>\n",
       "      <td>NaN</td>\n",
       "    </tr>\n",
       "  </tbody>\n",
       "</table>\n",
       "</div>"
      ],
      "text/plain": [
       "         BIB                CALL    LOC  \\\n",
       "0  b35481328   BX1427 .A35 1680z  cpn     \n",
       "1  b35484287    BX1427 .A35 1767  cpn     \n",
       "2  b35484718   BX1427 .A35 1770z  cpn     \n",
       "3  b35484676   BX1427 .A35 1780z  cpn     \n",
       "4  b35581864  BX1430.G7 C38 1845  cpn     \n",
       "\n",
       "                                              AUTHOR  \\\n",
       "0                  Cofradía de San Benito de Palerma   \n",
       "1  Cofradia del Santissimo Sacramento y Nuestra S...   \n",
       "2  Cofradía de San Dimas y Nuestra Señora de la C...   \n",
       "3  Cofradia de San Dimas y Nuestra Señora de la C...   \n",
       "4  Catholic Church. Diocese of Guadalajara (Mexic...   \n",
       "\n",
       "                                               TITLE  \\\n",
       "0  Patente de la Cofradia y Hermandad de la Coron...   \n",
       "1  Patente de la Cofradia del Santissimo Sacramen...   \n",
       "2  Patente de la Cofradia y Ermandad de el glorio...   \n",
       "3  Patente de hermano de la ilustre Cofradia del ...   \n",
       "4  El Ilmo. Sr. Dr. D. Diego Aranda, dignisimo ob...   \n",
       "\n",
       "                                           PUBLISHED  \\\n",
       "0                   [Mexico] : [La Cofradia], [168-]   \n",
       "1                  [Mexico] : [La Cofradia], [1767?]   \n",
       "2                   [Mexico] : [La Cofradia], [177-]   \n",
       "3                   [Mexico] : [La Cofradia], [178-]   \n",
       "4  [Guadalajara, Mexico] : Imprenta de Rodriguez,...   \n",
       "\n",
       "                                       GENRE   STATUS Notes  \n",
       "0  Broadsides -- Mexico -- 1680-1689. rbgenr  In Aeon   NaN  \n",
       "1  Broadsides -- Mexico -- 1760-1769. rbgenr  In Aeon   NaN  \n",
       "2  Broadsides -- Mexico -- 1770-1779. rbgenr  In Aeon   NaN  \n",
       "3  Broadsides -- Mexico -- 1780-1789. rbgenr  In Aeon   NaN  \n",
       "4  Broadsides -- Mexico -- 1840-1849. rbgenr  In Aeon   NaN  "
      ]
     },
     "execution_count": 5,
     "metadata": {},
     "output_type": "execute_result"
    }
   ],
   "source": [
    "df1.head()"
   ]
  },
  {
   "cell_type": "code",
   "execution_count": 6,
   "metadata": {
    "collapsed": true
   },
   "outputs": [],
   "source": [
    "bib = df1['BIB']"
   ]
  },
  {
   "cell_type": "code",
   "execution_count": 7,
   "metadata": {
    "collapsed": false
   },
   "outputs": [],
   "source": [
    "bibs = []\n",
    "for line in bib:\n",
    "    bibs.append(line.strip())"
   ]
  },
  {
   "cell_type": "code",
   "execution_count": 8,
   "metadata": {
    "collapsed": false
   },
   "outputs": [
    {
     "name": "stdout",
     "output_type": "stream",
     "text": [
      "['b35481328', 'b35484287', 'b35484718', 'b35484676', 'b35581864', 'b23614614', 'b66771638', 'b35485140', 'b32169991', 'b35323954', 'b35411545', 'b35567028', 'b35575542', 'b35575943', 'b35382752', 'b35562560', 'b35571275', 'b35572620', 'b35571652', 'b35574987', 'b35571196', 'b35571378', 'b35517323', 'b35573314', 'b35581736', 'b35586436', 'b35608080', 'b48687273', 'b29429821', 'b35581827', 'b35355062', 'b35354963', 'b35354811', 'b35509247', 'b35562730', 'b35572930', 'b33814508', 'b23614791', 'b35573740', 'b35567004', 'b34096279', 'b92452498', 'b92452383', 'b26409124', 'b35847499', 'b35382636', 'b57981590', 'b35485486', 'b35474166', 'b3549444x', 'b3547449x', 'b35514048', 'b35561440', 'b33844483', 'b35514954', 'b35517529', 'b35370725', 'b35498833', 'b35498808', 'b35563370', 'b35568549', 'b35568409', 'b35513172', 'b35515971', 'b35459116', 'b35572784', 'b3551100x', 'b35517311', 'b35519952', 'b35476709', 'b35513366', 'b35519332', 'b33022161', 'b23614560', 'b23614699', 'b35353053', 'b35352942', 'b35584294', 'b35583769', 'b35584099', 'b23614596', 'b35604530', 'b35583149', 'b35608596', 'b23614766', 'b33021004', 'b33022549', 'b35608808', 'b35582133', 'b35587222', 'b35381097', 'b3551274x', 'b34074600', 'b34088465', 'b23614663', 'b36529539', 'b35409769', 'b35407141', 'b3540744x', 'b34089408', 'b35567521', 'b35475274', 'b34088052', 'b35459098', 'b34077121', 'b32148306', 'b25840265', 'b34074739', 'b3547760x', 'b35483611', 'b3547452x', 'b35485590', 'b35485723', 'b35485814', 'b35485887', 'b35519551', 'b35564258', 'b35566668', 'b35576418', 'b35501613', 'b35500529', 'b35500839', 'b35353922', 'b35354033', 'b35354288', 'b41034259', 'b35513597', 'b34079993', 'b35587647', 'b35600408', 'b35600706', 'b35599911', 'b35600895', 'b35601176', 'b35589322', 'b35589711', 'b35577605', 'b35407773', 'b34079725', 'b34079567', 'b34080132', 'b24323871', 'b34079208', 'b3540758x', 'b35583617', 'b35600160', 'b3560122x', 'b35601516', 'b3560167x', 'b35605558', 'b35587349', 'b35592606', 'b35592813', 'b35583447', 'b35588913']\n",
      "\n",
      " 155\n"
     ]
    }
   ],
   "source": [
    "print(bibs)\n",
    "print('\\n',len(bibs))"
   ]
  },
  {
   "cell_type": "markdown",
   "metadata": {},
   "source": [
    "So we see we have 155 lines or objects listed in the spreadsheet. Let's now look at the actual file directories to compare. Dive Into Python, specifically its chapter [Working with Directories](http://www.diveintopython.net/file_handling/os_module.html) has a lot of useful tips we can use:"
   ]
  },
  {
   "cell_type": "code",
   "execution_count": 9,
   "metadata": {
    "collapsed": false
   },
   "outputs": [],
   "source": [
    "os.chdir('/mnt/digital-staging/Mexican-Broadsides/batch1/Working_Files')\n",
    "folders = [name for name in os.listdir(\".\") if os.path.isdir(name)]"
   ]
  },
  {
   "cell_type": "code",
   "execution_count": 10,
   "metadata": {
    "collapsed": false
   },
   "outputs": [
    {
     "name": "stdout",
     "output_type": "stream",
     "text": [
      "['b35571652', 'b35411545', 'b35576418', 'b92452966', 'b35515971', 'b35577605', 'b92453156', 'b92849179', 'b34079567', 'b35459098', 'b92645847', 'b35352942', 'b35353922', 'b92472801', 'b92452383', 'b35589711', 'b92758587', 'b35484676', 'b35407773', 'b35474166', 'b34088465', 'b92826428', 'b35353053', 'b92478396', 'b92675153', 'b3551274x', 'b23614560', 'b3560122x', 'b35517529', 'b92850510']\n",
      "\n",
      " 223 total folders\n"
     ]
    }
   ],
   "source": [
    "print(folders[0:30])\n",
    "print('\\n',len(folders), \"total folders\")"
   ]
  },
  {
   "cell_type": "markdown",
   "metadata": {},
   "source": [
    "Hmmmm. So comparing above, there were only 155 objects listed, but the directory has 223.  \n",
    "\n",
    "Because we can have 'complex objects', that is, objects that have more than 1 file, we should explore what that structure looks like"
   ]
  },
  {
   "cell_type": "code",
   "execution_count": 11,
   "metadata": {
    "collapsed": false
   },
   "outputs": [],
   "source": [
    "files = []\n",
    "for f in folders:\n",
    "    file = os.listdir(f)\n",
    "    files.append(file)\n",
    "    continue "
   ]
  },
  {
   "cell_type": "code",
   "execution_count": 12,
   "metadata": {
    "collapsed": false
   },
   "outputs": [
    {
     "name": "stdout",
     "output_type": "stream",
     "text": [
      "[['Thumbs.db', 'b35571652_1.tif'], ['b35411545_1.tif', 'Thumbs.db'], ['Thumbs.db', 'b35576418_1.tif'], ['b92452966_1.tif', 'Thumbs.db'], ['b35515971_1.tif', 'Thumbs.db'], ['b35577605_1.tif', 'Thumbs.db'], ['b92453156_1.tif', 'Thumbs.db'], ['Thumbs.db', 'b92849179_1.tif'], ['b34079567_2.tif', 'b34079567_1.tif', 'Thumbs.db'], ['b35459098_1.tif', 'Thumbs.db'], ['b92645847_1.tif', 'Thumbs.db'], ['b35352942_1.tif', 'Thumbs.db'], ['b35353922_1.tif', 'b35353922_2.tif', 'Thumbs.db'], ['b92472801_1.tif', 'Thumbs.db', 'b92472801_2.tif'], ['b92452383_2.tif', 'b92452383_1.tif']]\n",
      "\n",
      " 223 total objects\n"
     ]
    }
   ],
   "source": [
    "print(files[0:15])\n",
    "print('\\n',len(files), \"total objects\")"
   ]
  },
  {
   "cell_type": "markdown",
   "metadata": {},
   "source": [
    "See how within each group, there are brackets? This means we have made a \"list of lists\", which means that each group is its own list within that larger list. This is key to knowing how to filter it later.\n",
    "\n",
    "So, we see that within our 223 objects, we have some that have 2 or more .tif files, and thankfully, the objects with only 1 .tif still maintain a `_1` suffix.  \n",
    "\n",
    "But, we also have the junk files 'Thumbs.db' that we will want to filter out of the list within a list. we can use the `.remove` method, which removes items from lists"
   ]
  },
  {
   "cell_type": "code",
   "execution_count": 13,
   "metadata": {
    "collapsed": false
   },
   "outputs": [
    {
     "name": "stdout",
     "output_type": "stream",
     "text": [
      "[['b35571652_1.tif'], ['b35411545_1.tif'], ['b35576418_1.tif'], ['b92452966_1.tif'], ['b35515971_1.tif'], ['b35577605_1.tif'], ['b92453156_1.tif'], ['b92849179_1.tif'], ['b34079567_2.tif', 'b34079567_1.tif'], ['b35459098_1.tif'], ['b92645847_1.tif'], ['b35352942_1.tif'], ['b35353922_1.tif', 'b35353922_2.tif'], ['b92472801_1.tif', 'b92472801_2.tif'], ['b92452383_2.tif', 'b92452383_1.tif']]\n",
      "\n",
      " 223 total objects\n"
     ]
    }
   ],
   "source": [
    "for file in files:\n",
    "    while 'Thumbs.db' in file: file.remove('Thumbs.db')\n",
    "print(files[0:15])\n",
    "print('\\n',len(files), \"total objects\")"
   ]
  },
  {
   "cell_type": "markdown",
   "metadata": {},
   "source": [
    "So now we have a clean file directory list for our objects. At the very beginning, we made a list from the spreadsheet. That 'bib' ID in the spreadsheet would be helpful to group this directory listing as a key. This means we could make a python dictionary, with the bib ID as the key, and the files that exist as the values "
   ]
  },
  {
   "cell_type": "code",
   "execution_count": 14,
   "metadata": {
    "collapsed": false
   },
   "outputs": [],
   "source": [
    "listing_dict = dict(zip(folders, files))"
   ]
  },
  {
   "cell_type": "code",
   "execution_count": 17,
   "metadata": {
    "collapsed": false
   },
   "outputs": [
    {
     "data": {
      "text/plain": [
       "{'b23614791': ['b23614791_1.tif'],\n",
       " 'b34077121': ['b34077121_1.tif'],\n",
       " 'b34096279': ['b34096279_2.tif', 'b34096279_1.tif'],\n",
       " 'b35354288': ['b35354288_2.tif', 'b35354288_1.tif'],\n",
       " 'b35476709': ['b35476709_1.tif'],\n",
       " 'b35519952': ['b35519952_1.tif'],\n",
       " 'b35571378': ['b35571378_1.tif'],\n",
       " 'b35572620': ['b35572620_1.tif'],\n",
       " 'b35588913': ['b35588913_1.tif', 'b35588913_2.tif'],\n",
       " 'b92453582': ['b92453582_1.tif'],\n",
       " 'b92478359': ['b92478359_2.tif', 'b92478359_1.tif'],\n",
       " 'b92483458': ['b92483458_1.tif', 'b92483458_2.tif'],\n",
       " 'b92592533': ['b92592533_1.tif'],\n",
       " 'b92675323': ['b92675323_1.tif', 'b92675323_2.tif'],\n",
       " 'b92847419': ['b92847419_1.tif']}"
      ]
     },
     "execution_count": 17,
     "metadata": {},
     "output_type": "execute_result"
    }
   ],
   "source": [
    "dict(list(listing_dict.items())[0:15])"
   ]
  },
  {
   "cell_type": "markdown",
   "metadata": {},
   "source": [
    "## Alternative methods\n",
    "We used some `os` functions to get directory listings, but as we saw, one side effect was getting junk files we then had to filter out. Could we find a more precise way to get just .tif files? It looks like `glob` might be able to, and it should sound familiar from bash. Let's see what the documentation says:"
   ]
  },
  {
   "cell_type": "code",
   "execution_count": 25,
   "metadata": {},
   "outputs": [
    {
     "name": "stdout",
     "output_type": "stream",
     "text": [
      "Help on module glob:\n",
      "\n",
      "NAME\n",
      "    glob - Filename globbing utility.\n",
      "\n",
      "MODULE REFERENCE\n",
      "    https://docs.python.org/3.5/library/glob.html\n",
      "    \n",
      "    The following documentation is automatically generated from the Python\n",
      "    source files.  It may be incomplete, incorrect or include features that\n",
      "    are considered implementation detail and may vary between Python\n",
      "    implementations.  When in doubt, consult the module reference at the\n",
      "    location listed above.\n",
      "\n",
      "FUNCTIONS\n",
      "    escape(pathname)\n",
      "        Escape all special characters.\n",
      "    \n",
      "    glob(pathname, *, recursive=False)\n",
      "        Return a list of paths matching a pathname pattern.\n",
      "        \n",
      "        The pattern may contain simple shell-style wildcards a la\n",
      "        fnmatch. However, unlike fnmatch, filenames starting with a\n",
      "        dot are special cases that are not matched by '*' and '?'\n",
      "        patterns.\n",
      "        \n",
      "        If recursive is true, the pattern '**' will match any files and\n",
      "        zero or more directories and subdirectories.\n",
      "    \n",
      "    iglob(pathname, *, recursive=False)\n",
      "        Return an iterator which yields the paths matching a pathname pattern.\n",
      "        \n",
      "        The pattern may contain simple shell-style wildcards a la\n",
      "        fnmatch. However, unlike fnmatch, filenames starting with a\n",
      "        dot are special cases that are not matched by '*' and '?'\n",
      "        patterns.\n",
      "        \n",
      "        If recursive is true, the pattern '**' will match any files and\n",
      "        zero or more directories and subdirectories.\n",
      "\n",
      "DATA\n",
      "    __all__ = ['glob', 'iglob', 'escape']\n",
      "\n",
      "FILE\n",
      "    /home/zelgius/anaconda3/lib/python3.5/glob.py\n",
      "\n",
      "\n"
     ]
    }
   ],
   "source": [
    "help(glob)"
   ]
  },
  {
   "cell_type": "code",
   "execution_count": 28,
   "metadata": {},
   "outputs": [
    {
     "name": "stdout",
     "output_type": "stream",
     "text": [
      "['/mnt/digital-staging/Mexican-Broadsides/batch1/Working_Files/b35571652/b35571652_1.tif', '/mnt/digital-staging/Mexican-Broadsides/batch1/Working_Files/b35411545/b35411545_1.tif', '/mnt/digital-staging/Mexican-Broadsides/batch1/Working_Files/b35576418/b35576418_1.tif', '/mnt/digital-staging/Mexican-Broadsides/batch1/Working_Files/b92452966/b92452966_1.tif', '/mnt/digital-staging/Mexican-Broadsides/batch1/Working_Files/b35515971/b35515971_1.tif', '/mnt/digital-staging/Mexican-Broadsides/batch1/Working_Files/b35577605/b35577605_1.tif', '/mnt/digital-staging/Mexican-Broadsides/batch1/Working_Files/b92453156/b92453156_1.tif', '/mnt/digital-staging/Mexican-Broadsides/batch1/Working_Files/b92849179/b92849179_1.tif', '/mnt/digital-staging/Mexican-Broadsides/batch1/Working_Files/b34079567/b34079567_2.tif', '/mnt/digital-staging/Mexican-Broadsides/batch1/Working_Files/b34079567/b34079567_1.tif', '/mnt/digital-staging/Mexican-Broadsides/batch1/Working_Files/b35459098/b35459098_1.tif', '/mnt/digital-staging/Mexican-Broadsides/batch1/Working_Files/b92645847/b92645847_1.tif', '/mnt/digital-staging/Mexican-Broadsides/batch1/Working_Files/b35352942/b35352942_1.tif', '/mnt/digital-staging/Mexican-Broadsides/batch1/Working_Files/b35353922/b35353922_1.tif', '/mnt/digital-staging/Mexican-Broadsides/batch1/Working_Files/b35353922/b35353922_2.tif', '/mnt/digital-staging/Mexican-Broadsides/batch1/Working_Files/b92472801/b92472801_1.tif', '/mnt/digital-staging/Mexican-Broadsides/batch1/Working_Files/b92472801/b92472801_2.tif', '/mnt/digital-staging/Mexican-Broadsides/batch1/Working_Files/b92452383/b92452383_2.tif', '/mnt/digital-staging/Mexican-Broadsides/batch1/Working_Files/b92452383/b92452383_1.tif', '/mnt/digital-staging/Mexican-Broadsides/batch1/Working_Files/b35589711/b35589711_1.tif', '/mnt/digital-staging/Mexican-Broadsides/batch1/Working_Files/b35589711/b35589711_2.tif', '/mnt/digital-staging/Mexican-Broadsides/batch1/Working_Files/b92758587/b92758587_1.tif', '/mnt/digital-staging/Mexican-Broadsides/batch1/Working_Files/b35484676/b35484676_1.tif', '/mnt/digital-staging/Mexican-Broadsides/batch1/Working_Files/b35407773/b35407773_1.tif', '/mnt/digital-staging/Mexican-Broadsides/batch1/Working_Files/b35474166/b35474166_1.tif']\n"
     ]
    }
   ],
   "source": [
    "glob_list = glob.glob('/mnt/digital-staging/Mexican-Broadsides/batch1/Working_Files/*/*.tif')\n",
    "print(glob_list[0:25])"
   ]
  },
  {
   "cell_type": "code",
   "execution_count": null,
   "metadata": {},
   "outputs": [],
   "source": []
  }
 ],
 "metadata": {
  "kernelspec": {
   "display_name": "Python [conda root]",
   "language": "python",
   "name": "conda-root-py"
  },
  "language_info": {
   "codemirror_mode": {
    "name": "ipython",
    "version": 3
   },
   "file_extension": ".py",
   "mimetype": "text/x-python",
   "name": "python",
   "nbconvert_exporter": "python",
   "pygments_lexer": "ipython3",
   "version": "3.5.2"
  }
 },
 "nbformat": 4,
 "nbformat_minor": 2
}
