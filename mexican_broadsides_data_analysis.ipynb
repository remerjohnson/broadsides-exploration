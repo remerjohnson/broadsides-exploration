{
 "cells": [
  {
   "cell_type": "markdown",
   "metadata": {},
   "source": [
    "# Mexican Broadsides Data Analysis\n",
    "\n",
    "For the upcoming Mexican Broadsides collection, we so far have an Excel sheet with call numbers and some metadata. These data will need to be converted, cleaned, and otherwise analyzed in order to produce quality metadata for the DAMS. \n",
    "\n",
    "## First step: data conversion\n",
    "Step one was taking the primary sheet in Excel and converting that to a csv file via `csvkit`. The command was:\n",
    "\n",
    "```\n",
    "in2csv --sheet 'Mexican Broadsides Batch 1' Mexican_broadsides_batch_1.xlsx > broadsides.csv\n",
    "```"
   ]
  },
  {
   "cell_type": "code",
   "execution_count": 1,
   "metadata": {
    "collapsed": true
   },
   "outputs": [],
   "source": [
    "import pandas as pd\n",
    "import os"
   ]
  },
  {
   "cell_type": "code",
   "execution_count": 2,
   "metadata": {
    "collapsed": true
   },
   "outputs": [],
   "source": [
    "df1 = pd.read_csv('broadsides.csv')"
   ]
  },
  {
   "cell_type": "code",
   "execution_count": 3,
   "metadata": {
    "collapsed": false
   },
   "outputs": [
    {
     "data": {
      "text/html": [
       "<div>\n",
       "<style scoped>\n",
       "    .dataframe tbody tr th:only-of-type {\n",
       "        vertical-align: middle;\n",
       "    }\n",
       "\n",
       "    .dataframe tbody tr th {\n",
       "        vertical-align: top;\n",
       "    }\n",
       "\n",
       "    .dataframe thead th {\n",
       "        text-align: right;\n",
       "    }\n",
       "</style>\n",
       "<table border=\"1\" class=\"dataframe\">\n",
       "  <thead>\n",
       "    <tr style=\"text-align: right;\">\n",
       "      <th></th>\n",
       "      <th>BIB</th>\n",
       "      <th>CALL</th>\n",
       "      <th>LOC</th>\n",
       "      <th>AUTHOR</th>\n",
       "      <th>TITLE</th>\n",
       "      <th>PUBLISHED</th>\n",
       "      <th>GENRE</th>\n",
       "      <th>STATUS</th>\n",
       "      <th>Notes</th>\n",
       "    </tr>\n",
       "  </thead>\n",
       "  <tbody>\n",
       "    <tr>\n",
       "      <th>0</th>\n",
       "      <td>b35481328</td>\n",
       "      <td>BX1427 .A35 1680z</td>\n",
       "      <td>cpn</td>\n",
       "      <td>Cofradía de San Benito de Palerma</td>\n",
       "      <td>Patente de la Cofradia y Hermandad de la Coron...</td>\n",
       "      <td>[Mexico] : [La Cofradia], [168-]</td>\n",
       "      <td>Broadsides -- Mexico -- 1680-1689. rbgenr</td>\n",
       "      <td>In Aeon</td>\n",
       "      <td>NaN</td>\n",
       "    </tr>\n",
       "    <tr>\n",
       "      <th>1</th>\n",
       "      <td>b35484287</td>\n",
       "      <td>BX1427 .A35 1767</td>\n",
       "      <td>cpn</td>\n",
       "      <td>Cofradia del Santissimo Sacramento y Nuestra S...</td>\n",
       "      <td>Patente de la Cofradia del Santissimo Sacramen...</td>\n",
       "      <td>[Mexico] : [La Cofradia], [1767?]</td>\n",
       "      <td>Broadsides -- Mexico -- 1760-1769. rbgenr</td>\n",
       "      <td>In Aeon</td>\n",
       "      <td>NaN</td>\n",
       "    </tr>\n",
       "    <tr>\n",
       "      <th>2</th>\n",
       "      <td>b35484718</td>\n",
       "      <td>BX1427 .A35 1770z</td>\n",
       "      <td>cpn</td>\n",
       "      <td>Cofradía de San Dimas y Nuestra Señora de la C...</td>\n",
       "      <td>Patente de la Cofradia y Ermandad de el glorio...</td>\n",
       "      <td>[Mexico] : [La Cofradia], [177-]</td>\n",
       "      <td>Broadsides -- Mexico -- 1770-1779. rbgenr</td>\n",
       "      <td>In Aeon</td>\n",
       "      <td>NaN</td>\n",
       "    </tr>\n",
       "    <tr>\n",
       "      <th>3</th>\n",
       "      <td>b35484676</td>\n",
       "      <td>BX1427 .A35 1780z</td>\n",
       "      <td>cpn</td>\n",
       "      <td>Cofradia de San Dimas y Nuestra Señora de la C...</td>\n",
       "      <td>Patente de hermano de la ilustre Cofradia del ...</td>\n",
       "      <td>[Mexico] : [La Cofradia], [178-]</td>\n",
       "      <td>Broadsides -- Mexico -- 1780-1789. rbgenr</td>\n",
       "      <td>In Aeon</td>\n",
       "      <td>NaN</td>\n",
       "    </tr>\n",
       "    <tr>\n",
       "      <th>4</th>\n",
       "      <td>b35581864</td>\n",
       "      <td>BX1430.G7 C38 1845</td>\n",
       "      <td>cpn</td>\n",
       "      <td>Catholic Church. Diocese of Guadalajara (Mexic...</td>\n",
       "      <td>El Ilmo. Sr. Dr. D. Diego Aranda, dignisimo ob...</td>\n",
       "      <td>[Guadalajara, Mexico] : Imprenta de Rodriguez,...</td>\n",
       "      <td>Broadsides -- Mexico -- 1840-1849. rbgenr</td>\n",
       "      <td>In Aeon</td>\n",
       "      <td>NaN</td>\n",
       "    </tr>\n",
       "  </tbody>\n",
       "</table>\n",
       "</div>"
      ],
      "text/plain": [
       "         BIB                CALL    LOC  \\\n",
       "0  b35481328   BX1427 .A35 1680z  cpn     \n",
       "1  b35484287    BX1427 .A35 1767  cpn     \n",
       "2  b35484718   BX1427 .A35 1770z  cpn     \n",
       "3  b35484676   BX1427 .A35 1780z  cpn     \n",
       "4  b35581864  BX1430.G7 C38 1845  cpn     \n",
       "\n",
       "                                              AUTHOR  \\\n",
       "0                  Cofradía de San Benito de Palerma   \n",
       "1  Cofradia del Santissimo Sacramento y Nuestra S...   \n",
       "2  Cofradía de San Dimas y Nuestra Señora de la C...   \n",
       "3  Cofradia de San Dimas y Nuestra Señora de la C...   \n",
       "4  Catholic Church. Diocese of Guadalajara (Mexic...   \n",
       "\n",
       "                                               TITLE  \\\n",
       "0  Patente de la Cofradia y Hermandad de la Coron...   \n",
       "1  Patente de la Cofradia del Santissimo Sacramen...   \n",
       "2  Patente de la Cofradia y Ermandad de el glorio...   \n",
       "3  Patente de hermano de la ilustre Cofradia del ...   \n",
       "4  El Ilmo. Sr. Dr. D. Diego Aranda, dignisimo ob...   \n",
       "\n",
       "                                           PUBLISHED  \\\n",
       "0                   [Mexico] : [La Cofradia], [168-]   \n",
       "1                  [Mexico] : [La Cofradia], [1767?]   \n",
       "2                   [Mexico] : [La Cofradia], [177-]   \n",
       "3                   [Mexico] : [La Cofradia], [178-]   \n",
       "4  [Guadalajara, Mexico] : Imprenta de Rodriguez,...   \n",
       "\n",
       "                                       GENRE   STATUS Notes  \n",
       "0  Broadsides -- Mexico -- 1680-1689. rbgenr  In Aeon   NaN  \n",
       "1  Broadsides -- Mexico -- 1760-1769. rbgenr  In Aeon   NaN  \n",
       "2  Broadsides -- Mexico -- 1770-1779. rbgenr  In Aeon   NaN  \n",
       "3  Broadsides -- Mexico -- 1780-1789. rbgenr  In Aeon   NaN  \n",
       "4  Broadsides -- Mexico -- 1840-1849. rbgenr  In Aeon   NaN  "
      ]
     },
     "execution_count": 3,
     "metadata": {},
     "output_type": "execute_result"
    }
   ],
   "source": [
    "df1.head()"
   ]
  },
  {
   "cell_type": "code",
   "execution_count": 16,
   "metadata": {
    "collapsed": true
   },
   "outputs": [],
   "source": [
    "bib = df1['BIB']"
   ]
  },
  {
   "cell_type": "code",
   "execution_count": 17,
   "metadata": {
    "collapsed": false
   },
   "outputs": [],
   "source": [
    "bibs = []\n",
    "for line in bib:\n",
    "    bibs.append(line.strip())"
   ]
  },
  {
   "cell_type": "code",
   "execution_count": 28,
   "metadata": {
    "collapsed": false
   },
   "outputs": [
    {
     "name": "stdout",
     "output_type": "stream",
     "text": [
      "['b35481328', 'b35484287', 'b35484718', 'b35484676', 'b35581864', 'b23614614', 'b66771638', 'b35485140', 'b32169991', 'b35323954', 'b35411545', 'b35567028', 'b35575542', 'b35575943', 'b35382752', 'b35562560', 'b35571275', 'b35572620', 'b35571652', 'b35574987', 'b35571196', 'b35571378', 'b35517323', 'b35573314', 'b35581736', 'b35586436', 'b35608080', 'b48687273', 'b29429821', 'b35581827', 'b35355062', 'b35354963', 'b35354811', 'b35509247', 'b35562730', 'b35572930', 'b33814508', 'b23614791', 'b35573740', 'b35567004', 'b34096279', 'b92452498', 'b92452383', 'b26409124', 'b35847499', 'b35382636', 'b57981590', 'b35485486', 'b35474166', 'b3549444x', 'b3547449x', 'b35514048', 'b35561440', 'b33844483', 'b35514954', 'b35517529', 'b35370725', 'b35498833', 'b35498808', 'b35563370', 'b35568549', 'b35568409', 'b35513172', 'b35515971', 'b35459116', 'b35572784', 'b3551100x', 'b35517311', 'b35519952', 'b35476709', 'b35513366', 'b35519332', 'b33022161', 'b23614560', 'b23614699', 'b35353053', 'b35352942', 'b35584294', 'b35583769', 'b35584099', 'b23614596', 'b35604530', 'b35583149', 'b35608596', 'b23614766', 'b33021004', 'b33022549', 'b35608808', 'b35582133', 'b35587222', 'b35381097', 'b3551274x', 'b34074600', 'b34088465', 'b23614663', 'b36529539', 'b35409769', 'b35407141', 'b3540744x', 'b34089408', 'b35567521', 'b35475274', 'b34088052', 'b35459098', 'b34077121', 'b32148306', 'b25840265', 'b34074739', 'b3547760x', 'b35483611', 'b3547452x', 'b35485590', 'b35485723', 'b35485814', 'b35485887', 'b35519551', 'b35564258', 'b35566668', 'b35576418', 'b35501613', 'b35500529', 'b35500839', 'b35353922', 'b35354033', 'b35354288', 'b41034259', 'b35513597', 'b34079993', 'b35587647', 'b35600408', 'b35600706', 'b35599911', 'b35600895', 'b35601176', 'b35589322', 'b35589711', 'b35577605', 'b35407773', 'b34079725', 'b34079567', 'b34080132', 'b24323871', 'b34079208', 'b3540758x', 'b35583617', 'b35600160', 'b3560122x', 'b35601516', 'b3560167x', 'b35605558', 'b35587349', 'b35592606', 'b35592813', 'b35583447', 'b35588913']\n",
      "\n",
      " 155\n"
     ]
    }
   ],
   "source": [
    "print(bibs)\n",
    "print('\\n',len(bibs))"
   ]
  },
  {
   "cell_type": "markdown",
   "metadata": {},
   "source": [
    "So we see we have 155 lines or objects listed in the spreadsheet. Let's now look at the actual file directories to compare"
   ]
  },
  {
   "cell_type": "code",
   "execution_count": 23,
   "metadata": {
    "collapsed": false
   },
   "outputs": [],
   "source": [
    "os.chdir('/mnt/digital-staging/Mexican-Broadsides/batch1/Working_Files')\n",
    "folders = [name for name in os.listdir(\".\") if os.path.isdir(name)]"
   ]
  },
  {
   "cell_type": "code",
   "execution_count": 53,
   "metadata": {
    "collapsed": false
   },
   "outputs": [
    {
     "name": "stdout",
     "output_type": "stream",
     "text": [
      "['b35571652', 'b35411545', 'b35576418', 'b92452966', 'b35515971', 'b35577605', 'b92453156', 'b92849179', 'b34079567', 'b35459098', 'b92645847', 'b35352942', 'b35353922', 'b92472801', 'b92452383', 'b35589711', 'b92758587', 'b35484676', 'b35407773', 'b35474166', 'b34088465', 'b92826428', 'b35353053', 'b92478396', 'b92675153', 'b3551274x', 'b23614560', 'b3560122x', 'b35517529', 'b92850510']\n",
      "\n",
      " 223 total folders\n"
     ]
    }
   ],
   "source": [
    "print(folders[0:30])\n",
    "print('\\n',len(folders), \"total folders\")"
   ]
  },
  {
   "cell_type": "markdown",
   "metadata": {},
   "source": [
    "Hmmmm. So comparing above, there were only 155 objects listed, but the directory has 223.  \n",
    "\n",
    "Because we can have 'complex objects', that is, objects that have more than 1 file, we should explore what that structure looks like"
   ]
  },
  {
   "cell_type": "code",
   "execution_count": 61,
   "metadata": {
    "collapsed": false
   },
   "outputs": [],
   "source": [
    "files = []\n",
    "for f in folders:\n",
    "    file = os.listdir(f)\n",
    "    files.append(file)\n",
    "    continue "
   ]
  },
  {
   "cell_type": "code",
   "execution_count": 77,
   "metadata": {
    "collapsed": false
   },
   "outputs": [
    {
     "name": "stdout",
     "output_type": "stream",
     "text": [
      "[['Thumbs.db', 'b35571652_1.tif'], ['b35411545_1.tif', 'Thumbs.db'], ['Thumbs.db', 'b35576418_1.tif'], ['b92452966_1.tif', 'Thumbs.db'], ['b35515971_1.tif', 'Thumbs.db'], ['b35577605_1.tif', 'Thumbs.db'], ['b92453156_1.tif', 'Thumbs.db'], ['Thumbs.db', 'b92849179_1.tif'], ['b34079567_2.tif', 'b34079567_1.tif', 'Thumbs.db'], ['b35459098_1.tif', 'Thumbs.db'], ['b92645847_1.tif', 'Thumbs.db'], ['b35352942_1.tif', 'Thumbs.db'], ['b35353922_1.tif', 'b35353922_2.tif', 'Thumbs.db'], ['b92472801_1.tif', 'Thumbs.db', 'b92472801_2.tif'], ['b92452383_2.tif', 'b92452383_1.tif']]\n",
      "\n",
      " 223 total objects\n"
     ]
    }
   ],
   "source": [
    "print(files[0:15])\n",
    "print('\\n',len(files), \"total objects\")"
   ]
  },
  {
   "cell_type": "markdown",
   "metadata": {},
   "source": [
    "See how within each group, there are brackets? This means we have made a \"list of lists\", which means that each group is its own list within that larger list. This is key to knowing how to filter it later.\n",
    "\n",
    "So, we see that within our 223 objects, we have some that have 2 or more .tif files, and thankfully, the objects with only 1 .tif still maintain a `_1` suffix.  \n",
    "\n",
    "But, we also have the junk files 'Thumbs.db' that we will want to filter out of the list within a list. we can use the `.remove` method, which removes items from lists"
   ]
  },
  {
   "cell_type": "code",
   "execution_count": 93,
   "metadata": {
    "collapsed": false
   },
   "outputs": [
    {
     "name": "stdout",
     "output_type": "stream",
     "text": [
      "[['b35571652_1.tif'], ['b35411545_1.tif'], ['b35576418_1.tif'], ['b92452966_1.tif'], ['b35515971_1.tif'], ['b35577605_1.tif'], ['b92453156_1.tif'], ['b92849179_1.tif'], ['b34079567_2.tif', 'b34079567_1.tif'], ['b35459098_1.tif'], ['b92645847_1.tif'], ['b35352942_1.tif'], ['b35353922_1.tif', 'b35353922_2.tif'], ['b92472801_1.tif', 'b92472801_2.tif'], ['b92452383_2.tif', 'b92452383_1.tif']]\n",
      "\n",
      " 223 total objects\n"
     ]
    }
   ],
   "source": [
    "for file in files:\n",
    "    while 'Thumbs.db' in file: file.remove('Thumbs.db')\n",
    "print(files[0:15])\n",
    "print('\\n',len(files), \"total objects\")"
   ]
  },
  {
   "cell_type": "markdown",
   "metadata": {},
   "source": [
    "So now we have a clean file directory list for our objects. At the very beginning, we made a list from the spreadsheet. That 'bib' ID in the spreadsheet would be helpful to group this directory listing as a key. This means we could make a python dictionary, with the bib ID as the key, and the files that exist as the values "
   ]
  },
  {
   "cell_type": "code",
   "execution_count": 94,
   "metadata": {
    "collapsed": false
   },
   "outputs": [],
   "source": [
    "listing_dict = dict(zip(folders, files))"
   ]
  },
  {
   "cell_type": "code",
   "execution_count": 95,
   "metadata": {
    "collapsed": false
   },
   "outputs": [
    {
     "name": "stdout",
     "output_type": "stream",
     "text": [
      "{'b92675153': ['b92675153_1.tif', 'b92675153_2.tif'], 'b92698505': ['b92698505_2.tif', 'b92698505_1.tif'], 'b9275868x': ['b9275868x_1.tif'], 'b35352942': ['b35352942_1.tif'], 'b92592892': ['b92592892_1.tif'], 'b92453156': ['b92453156_1.tif'], 'b35514954': ['b35514954_1.tif'], 'b34074600': ['b34074600_1.tif'], 'b92848266': ['b92848266_2.tif', 'b92848266_1.tif'], 'b92713555': ['b92713555_1.tif'], 'b33814508': ['b33814508_1.tif'], 'b35601516': ['b35601516_1.tif'], 'b35519551': ['b35519551_1.tif'], 'b92478396': ['b92478396_1.tif'], 'b92452383': ['b92452383_2.tif', 'b92452383_1.tif'], 'b35600408': ['b35600408_1.tif'], 'b35608808': ['b35608808_1.tif'], 'b35601176': ['b35601176_1.tif'], 'b35583149': ['b35583149_1.tif', 'b35583149_2.tif'], 'b35847499': ['b35847499_1.tif'], 'b92592533': ['b92592533_1.tif'], 'b35605558': ['b35605558_1.tif'], 'b35608596': ['b35608596_1.tif'], 'b35382636': ['b35382636_1.tif', 'b35382636_2.tif'], 'b35517323': ['b35517323_1.tif', 'b35517323_2.tif'], 'b35589711': ['b35589711_1.tif', 'b35589711_2.tif'], 'b34080132': ['b34080132_2.tif', 'b34080132_1.tif'], 'b92826428': ['b92826428_1.tif'], 'b34079208': ['b34079208_1.tif', 'b34079208_2.tif'], 'b92483665': ['b92483665_2.tif', 'b92483665_1.tif'], 'b34088052': ['b34088052_1.tif', 'b34088052_2.tif'], 'b35481328': ['b35481328_1.tif', 'b35481328_2.tif'], 'b92675323': ['b92675323_1.tif', 'b92675323_2.tif'], 'b3540758x': ['b3540758x_1.tif', 'b3540758x_2.tif'], 'b35600895': ['b35600895_1.tif'], 'b35586436': ['b35586436_1.tif'], 'b92713531': ['b92713531_2.tif', 'b92713531_1.tif'], 'b35562730': ['b35562730_1.tif'], 'b35476709': ['b35476709_1.tif'], 'b33844483': ['b33844483_1.tif'], 'b92820803': ['b92820803_1.tif'], 'b92477872': ['b92477872_1.tif'], 'b35353922': ['b35353922_1.tif', 'b35353922_2.tif'], 'b29429821': ['b29429821_1.tif'], 'b35382752': ['b35382752_1.tif'], 'b35572784': ['b35572784_1.tif'], 'b35485887': ['b35485887_1.tif', 'b35485887_2.tif'], 'b35500839': ['b35500839_2.tif', 'b35500839_1.tif'], 'b33021004': ['b33021004_1.tif'], 'b35583617': ['b35583617_1.tif', 'b35583617_2.tif'], 'b35571275': ['b35571275_1.tif'], 'b92671998': ['b92671998_2.tif', 'b92671998_1.tif'], 'b35355062': ['b35355062_1.tif', 'b35355062_2.tif'], 'b35608080': ['b35608080_1.tif'], 'b92645471': ['b92645471_1.tif'], 'b35600160': ['b35600160_1.tif'], 'b35485140': ['b35485140_1.tif'], 'b35485723': ['b35485723_2.tif', 'b35485723_1.tif'], 'b35354963': ['b35354963_1.tif'], 'b35599911': ['b35599911_1.tif'], 'b23614699': ['b23614699_1.tif'], 'b35354288': ['b35354288_2.tif', 'b35354288_1.tif'], 'b9285039x': ['b9285039x_1.tif', 'b9285039x_2.tif'], 'b35484287': ['b35484287_2.tif', 'b35484287_1.tif'], 'b32148306': ['b32148306_1.tif'], 'b92726665': ['b92726665_1.tif'], 'b35587349': ['b35587349_1.tif'], 'b35498833': ['b35498833_1.tif'], 'b35485486': ['b35485486_1.tif'], 'b92674951': ['b92674951_2.tif', 'b92674951_1.tif'], 'b35354033': ['b35354033_2.tif', 'b35354033_1.tif'], 'b92645847': ['b92645847_1.tif'], 'b35571378': ['b35571378_1.tif'], 'b35604530': ['b35604530_1.tif'], 'b92453041': ['b92453041_1.tif', 'b92453041_2.tif'], 'b34077121': ['b34077121_1.tif'], 'b35500529': ['b35500529_1.tif'], 'b35584294': ['b35584294_1.tif'], 'b35498808': ['b35498808_1.tif', 'b35498808_2.tif'], 'b35589322': ['b35589322_1.tif'], 'b35513172': ['b35513172_1.tif', 'b35513172_2.tif'], 'b92672322': ['b92672322_1.tif', 'b92672322_2.tif'], 'b35573314': ['b35573314_1.tif'], 'b35561440': ['b35561440_1.tif'], 'b92561986': ['b92561986_1.tif'], 'b3547760x': ['b3547760x_1.tif', 'b3547760x_2.tif'], 'b23614766': ['b23614766_1.tif'], 'b92826775': ['b92826775_1.tif'], 'b3547449x': ['b3547449x_1.tif'], 'b92452498': ['b92452498_2.tif', 'b92452498_1.tif'], 'b92575857': ['b92575857_1.tif', 'b92575857_2.tif'], 'b92483458': ['b92483458_1.tif', 'b92483458_2.tif'], 'b92847559': ['b92847559_1.tif', 'b92847559_2.tif'], 'b92453582': ['b92453582_1.tif'], 'b92591590': ['b92591590_1.tif'], 'b92452966': ['b92452966_1.tif'], 'b26409124': ['b26409124_1.tif'], 'b66771638': ['b66771638_1.tif'], 'b35583769': ['b35583769_1.tif'], 'b35566668': ['b35566668_1.tif'], 'b35564258': ['b35564258_2.tif', 'b35564258_1.tif'], 'b92555330': ['b92555330_1.tif'], 'b35514048': ['b35514048_2.tif', 'b35514048_1.tif'], 'b35563370': ['b35563370_1.tif'], 'b35567004': ['b35567004_2.tif', 'b35567004_1.tif'], 'b92483598': ['b92483598_2.tif', 'b92483598_1.tif'], 'b35577605': ['b35577605_1.tif'], 'b35574987': ['b35574987_2.tif', 'b35574987_1.tif'], 'b35354811': ['b35354811_1.tif', 'b35354811_2.tif'], 'b35353053': ['b35353053_1.tif'], 'b35513366': ['b35513366_1.tif'], 'b92826544': ['b92826544_1.tif', 'b92826544_2.tif'], 'b92554064': ['b92554064_1.tif'], 'b35592606': ['b35592606_1.tif', 'b35592606_2.tif'], 'b35517529': ['b35517529_1.tif', 'b35517529_2.tif'], 'b35411545': ['b35411545_1.tif'], 'b35587647': ['b35587647_1.tif'], 'b92848370': ['b92848370_2.tif', 'b92848370_1.tif'], 'b35588913': ['b35588913_1.tif', 'b35588913_2.tif'], 'b35519332': ['b35519332_1.tif'], 'b92860898': ['b92860898_1.tif'], 'b92849179': ['b92849179_1.tif'], 'b35370725': ['b35370725_1.tif'], 'b35485814': ['b35485814_1.tif', 'b35485814_2.tif'], 'b92477902': ['b92477902_1.tif'], 'b35515971': ['b35515971_1.tif'], 'b92698645': ['b92698645_1.tif', 'b92698645_2.tif'], 'b35573740': ['b35573740_1.tif'], 'b92860655': ['b92860655_1.tif', 'b92860655_2.tif'], 'b92474123': ['b92474123_1.tif'], 'b23614614': ['b23614614_1.tif'], 'b3551274x': ['b3551274x_1.tif'], 'b35572620': ['b35572620_1.tif'], 'b92477446': ['b92477446_1.tif'], 'b92593343': ['b92593343_1.tif', 'b92593343_2.tif'], 'b25840265': ['b25840265_1.tif'], 'b92725971': ['b92725971_2.tif', 'b92725971_1.tif'], 'b92477732': ['b92477732_1.tif'], 'b92700901': ['b92700901_1.tif', 'b92700901_2.tif'], 'b9269746x': ['b9269746x_1.tif', 'b9269746x_2.tif'], 'b35568549': ['b35568549_1.tif'], 'b9270072x': ['b9270072x_1.tif'], 'b35474166': ['b35474166_1.tif'], 'b35407773': ['b35407773_1.tif'], 'b3549444x': ['b3549444x_2.tif', 'b3549444x_1.tif'], 'b34079567': ['b34079567_2.tif', 'b34079567_1.tif'], 'b35576418': ['b35576418_1.tif'], 'b35407141': ['b35407141_1.tif'], 'b92713543': ['b92713543_2.tif', 'b92713543_1.tif'], 'b35567028': ['b35567028_2.tif', 'b35567028_1.tif'], 'b35575542': ['b35575542_1.tif', 'b35575542_2.tif'], 'b35484676': ['b35484676_1.tif'], 'b92645562': ['b92645562_1.tif'], 'b3560122x': ['b3560122x_1.tif'], 'b34096279': ['b34096279_2.tif', 'b34096279_1.tif'], 'b35583447': ['b35583447_2.tif', 'b35583447_1.tif'], 'b35600706': ['b35600706_1.tif'], 'b35475274': ['b35475274_1.tif', 'b35475274_2.tif'], 'b92820517': ['b92820517_1.tif'], 'b35568409': ['b35568409_1.tif'], 'b92478359': ['b92478359_2.tif', 'b92478359_1.tif'], 'b35484718': ['b35484718_1.tif'], 'b23614560': ['b23614560_1.tif'], 'b35571196': ['b35571196_1.tif'], 'b35381097': ['b35381097_1.tif'], 'b92700871': ['b92700871_1.tif', 'b92700871_2.tif'], 'b3540744x': ['b3540744x_1.tif'], 'b24323871': ['b24323871_1.tif', 'b24323871_2.tif'], 'b35582133': ['b35582133_2.tif', 'b35582133_1.tif'], 'b35562560': ['b35562560_1.tif'], 'b92847419': ['b92847419_1.tif'], 'b92820955': ['b92820955_1.tif'], 'b48687273': ['b48687273_1.tif'], 'b92671123': ['b92671123_2.tif', 'b92671123_1.tif'], 'b57981590': ['b57981590_2.tif', 'b57981590_1.tif'], 'b92821054': ['b92821054_1.tif', 'b92821054_2.tif'], 'b35459116': ['b35459116_1.tif'], 'b35571652': ['b35571652_1.tif'], 'b92850510': ['b92850510_1.tif'], 'b92696946': ['b92696946_1.tif', 'b92696946_2.tif'], 'b92482995': ['b92482995_1.tif', 'b92482995_2.tif'], 'b35575943': ['b35575943_2.tif', 'b35575943_1.tif'], 'b35509247': ['b35509247_1.tif'], 'b34088465': ['b34088465_1.tif'], 'b35572930': ['b35572930_1.tif'], 'b35517311': ['b35517311_1.tif', 'b35517311_2.tif'], 'b23614791': ['b23614791_1.tif'], 'b92796576': ['b92796576_1.tif'], 'b35323954': ['b35323954_1.tif'], 'b34089408': ['b34089408_1.tif'], 'b35587222': ['b35587222_1.tif'], 'b35519952': ['b35519952_1.tif'], 'b92561950': ['b92561950_2.tif', 'b92561950_1.tif'], 'b92848473': ['b92848473_2.tif', 'b92848473_1.tif'], 'b33022161': ['b33022161_1.tif', 'b33022161_2.tif'], 'b35513597': ['b35513597_1.tif'], 'b35592813': ['b35592813_1.tif'], 'b34079725': ['b34079725_1.tif'], 'b35501613': ['b35501613_1.tif'], 'b35581827': ['b35581827_1.tif'], 'b3547452x': ['b3547452x_1.tif'], 'b23614596': ['b23614596_1.tif'], 'b34079993': ['b34079993_2.tif', 'b34079993_1.tif'], 'b35409769': ['b35409769_1.tif', 'b35409769_2.tif'], 'b9284747x': ['b9284747x_1.tif'], 'b35485590': ['b35485590_1.tif', 'b35485590_2.tif'], 'b35584099': ['b35584099_1.tif'], 'b35581864': ['b35581864_1.tif'], 'b92758587': ['b92758587_1.tif'], 'b3560167x': ['b3560167x_1.tif'], 'b41034259': ['b41034259_2.tif', 'b41034259_1.tif'], 'b92820268': ['b92820268_1.tif'], 'b35581736': ['b35581736_1.tif'], 'b3551100x': ['b3551100x_1.tif'], 'b35459098': ['b35459098_1.tif'], 'b92472801': ['b92472801_1.tif', 'b92472801_2.tif'], 'b92821236': ['b92821236_1.tif', 'b92821236_2.tif'], 'b92575535': ['b92575535_1.tif', 'b92575535_2.tif'], 'b33022549': ['b33022549_2.tif', 'b33022549_1.tif'], 'b35567521': ['b35567521_1.tif', 'b35567521_2.tif'], 'b34074739': ['b34074739_1.tif', 'b34074739_2.tif'], 'b92700883': ['b92700883_1.tif'], 'b23614663': ['b23614663_1.tif']}\n"
     ]
    }
   ],
   "source": [
    "print(listing_dict)"
   ]
  },
  {
   "cell_type": "code",
   "execution_count": null,
   "metadata": {
    "collapsed": true
   },
   "outputs": [],
   "source": []
  }
 ],
 "metadata": {
  "kernelspec": {
   "display_name": "Python [Root]",
   "language": "python",
   "name": "Python [Root]"
  },
  "language_info": {
   "codemirror_mode": {
    "name": "ipython",
    "version": 3
   },
   "file_extension": ".py",
   "mimetype": "text/x-python",
   "name": "python",
   "nbconvert_exporter": "python",
   "pygments_lexer": "ipython3",
   "version": "3.5.2"
  }
 },
 "nbformat": 4,
 "nbformat_minor": 0
}
